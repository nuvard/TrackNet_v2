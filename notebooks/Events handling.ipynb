{
 "cells": [
  {
   "cell_type": "code",
   "execution_count": 1,
   "metadata": {
    "pycharm": {
     "is_executing": false
    }
   },
   "outputs": [
    {
     "name": "stderr",
     "text": [
      "c:\\users\\egor\\dubna\\tracknet_v2\\venv\\lib\\site-packages\\tensorflow\\python\\framework\\dtypes.py:516: FutureWarning: Passing (type, 1) or '1type' as a synonym of type is deprecated; in a future version of numpy, it will be understood as (type, (1,)) / '(1,)type'.\n  _np_qint8 = np.dtype([(\"qint8\", np.int8, 1)])\nc:\\users\\egor\\dubna\\tracknet_v2\\venv\\lib\\site-packages\\tensorflow\\python\\framework\\dtypes.py:517: FutureWarning: Passing (type, 1) or '1type' as a synonym of type is deprecated; in a future version of numpy, it will be understood as (type, (1,)) / '(1,)type'.\n  _np_quint8 = np.dtype([(\"quint8\", np.uint8, 1)])\nc:\\users\\egor\\dubna\\tracknet_v2\\venv\\lib\\site-packages\\tensorflow\\python\\framework\\dtypes.py:518: FutureWarning: Passing (type, 1) or '1type' as a synonym of type is deprecated; in a future version of numpy, it will be understood as (type, (1,)) / '(1,)type'.\n  _np_qint16 = np.dtype([(\"qint16\", np.int16, 1)])\nc:\\users\\egor\\dubna\\tracknet_v2\\venv\\lib\\site-packages\\tensorflow\\python\\framework\\dtypes.py:519: FutureWarning: Passing (type, 1) or '1type' as a synonym of type is deprecated; in a future version of numpy, it will be understood as (type, (1,)) / '(1,)type'.\n  _np_quint16 = np.dtype([(\"quint16\", np.uint16, 1)])\nc:\\users\\egor\\dubna\\tracknet_v2\\venv\\lib\\site-packages\\tensorflow\\python\\framework\\dtypes.py:520: FutureWarning: Passing (type, 1) or '1type' as a synonym of type is deprecated; in a future version of numpy, it will be understood as (type, (1,)) / '(1,)type'.\n  _np_qint32 = np.dtype([(\"qint32\", np.int32, 1)])\nc:\\users\\egor\\dubna\\tracknet_v2\\venv\\lib\\site-packages\\tensorflow\\python\\framework\\dtypes.py:525: FutureWarning: Passing (type, 1) or '1type' as a synonym of type is deprecated; in a future version of numpy, it will be understood as (type, (1,)) / '(1,)type'.\n  np_resource = np.dtype([(\"resource\", np.ubyte, 1)])\n",
      "c:\\users\\egor\\dubna\\tracknet_v2\\venv\\lib\\site-packages\\tensorboard\\compat\\tensorflow_stub\\dtypes.py:541: FutureWarning: Passing (type, 1) or '1type' as a synonym of type is deprecated; in a future version of numpy, it will be understood as (type, (1,)) / '(1,)type'.\n  _np_qint8 = np.dtype([(\"qint8\", np.int8, 1)])\nc:\\users\\egor\\dubna\\tracknet_v2\\venv\\lib\\site-packages\\tensorboard\\compat\\tensorflow_stub\\dtypes.py:542: FutureWarning: Passing (type, 1) or '1type' as a synonym of type is deprecated; in a future version of numpy, it will be understood as (type, (1,)) / '(1,)type'.\n  _np_quint8 = np.dtype([(\"quint8\", np.uint8, 1)])\nc:\\users\\egor\\dubna\\tracknet_v2\\venv\\lib\\site-packages\\tensorboard\\compat\\tensorflow_stub\\dtypes.py:543: FutureWarning: Passing (type, 1) or '1type' as a synonym of type is deprecated; in a future version of numpy, it will be understood as (type, (1,)) / '(1,)type'.\n  _np_qint16 = np.dtype([(\"qint16\", np.int16, 1)])\nc:\\users\\egor\\dubna\\tracknet_v2\\venv\\lib\\site-packages\\tensorboard\\compat\\tensorflow_stub\\dtypes.py:544: FutureWarning: Passing (type, 1) or '1type' as a synonym of type is deprecated; in a future version of numpy, it will be understood as (type, (1,)) / '(1,)type'.\n  _np_quint16 = np.dtype([(\"quint16\", np.uint16, 1)])\nc:\\users\\egor\\dubna\\tracknet_v2\\venv\\lib\\site-packages\\tensorboard\\compat\\tensorflow_stub\\dtypes.py:545: FutureWarning: Passing (type, 1) or '1type' as a synonym of type is deprecated; in a future version of numpy, it will be understood as (type, (1,)) / '(1,)type'.\n  _np_qint32 = np.dtype([(\"qint32\", np.int32, 1)])\nc:\\users\\egor\\dubna\\tracknet_v2\\venv\\lib\\site-packages\\tensorboard\\compat\\tensorflow_stub\\dtypes.py:550: FutureWarning: Passing (type, 1) or '1type' as a synonym of type is deprecated; in a future version of numpy, it will be understood as (type, (1,)) / '(1,)type'.\n  np_resource = np.dtype([(\"resource\", np.ubyte, 1)])\n",
      "WARNING: Logging before flag parsing goes to stderr.\n",
      "W0911 00:12:43.300906 17400 deprecation_wrapper.py:119] From C:\\Users\\egor\\dubna\\TrackNet_v2\\src\\tracknet.py:7: The name tf.keras.layers.CuDNNGRU is deprecated. Please use tf.compat.v1.keras.layers.CuDNNGRU instead.\n",
      "\n",
      "W0911 00:12:43.800909 17400 deprecation_wrapper.py:119] From C:\\Users\\egor\\dubna\\TrackNet_v2\\src\\validate_visualize.py:23: The name tf.ConfigProto is deprecated. Please use tf.compat.v1.ConfigProto instead.\n",
      "\n",
      "W0911 00:12:43.806911 17400 deprecation_wrapper.py:119] From C:\\Users\\egor\\dubna\\TrackNet_v2\\src\\validate_visualize.py:25: The name tf.keras.backend.set_session is deprecated. Please use tf.compat.v1.keras.backend.set_session instead.\n",
      "\n",
      "W0911 00:12:43.810911 17400 deprecation_wrapper.py:119] From C:\\Users\\egor\\dubna\\TrackNet_v2\\src\\validate_visualize.py:25: The name tf.Session is deprecated. Please use tf.compat.v1.Session instead.\n",
      "\n"
     ],
     "output_type": "stream"
    }
   ],
   "source": [
    "import itertools\n",
    "import tensorflow as tf\n",
    "import pandas as pd\n",
    "import numpy as np\n",
    "import tqdm\n",
    "import sys\n",
    "# Local software setup\n",
    "sys.path.append('..')\n",
    "\n",
    "from tensorflow.keras.models import load_model\n",
    "from scipy.spatial.distance import euclidean\n",
    "\n",
    "from src.losses import custom_loss\n",
    "from src.metrics import point_in_ellipse\n",
    "from src.metrics import point_in_ellipse_numpy\n",
    "from src.metrics import circle_area\n",
    "from src.data_utils import sample_vertices\n",
    "from src.data_utils import read_vertex_file"
   ]
  },
  {
   "cell_type": "markdown",
   "metadata": {},
   "source": [
    "## Calculate metrics"
   ]
  },
  {
   "cell_type": "code",
   "execution_count": 2,
   "metadata": {
    "pycharm": {
     "is_executing": false
    }
   },
   "outputs": [
    {
     "name": "stderr",
     "text": [
      "W0911 00:13:12.603055 17400 deprecation.py:506] From c:\\users\\egor\\dubna\\tracknet_v2\\venv\\lib\\site-packages\\tensorflow\\python\\ops\\init_ops.py:97: calling GlorotUniform.__init__ (from tensorflow.python.ops.init_ops) with dtype is deprecated and will be removed in a future version.\nInstructions for updating:\nCall initializer instance with the dtype argument instead of passing it to the constructor",
      "\n",
      "W0911 00:13:12.606022 17400 deprecation.py:506] From c:\\users\\egor\\dubna\\tracknet_v2\\venv\\lib\\site-packages\\tensorflow\\python\\ops\\init_ops.py:1251: calling VarianceScaling.__init__ (from tensorflow.python.ops.init_ops) with dtype is deprecated and will be removed in a future version.\nInstructions for updating:\nCall initializer instance with the dtype argument instead of passing it to the constructor",
      "\n",
      "W0911 00:13:12.611025 17400 deprecation.py:506] From c:\\users\\egor\\dubna\\tracknet_v2\\venv\\lib\\site-packages\\tensorflow\\python\\ops\\init_ops.py:97: calling Zeros.__init__ (from tensorflow.python.ops.init_ops) with dtype is deprecated and will be removed in a future version.\nInstructions for updating:\nCall initializer instance with the dtype argument instead of passing it to the constructor",
      "\n",
      "W0911 00:13:12.626022 17400 deprecation.py:506] From c:\\users\\egor\\dubna\\tracknet_v2\\venv\\lib\\site-packages\\tensorflow\\python\\ops\\init_ops.py:97: calling Ones.__init__ (from tensorflow.python.ops.init_ops) with dtype is deprecated and will be removed in a future version.\nInstructions for updating:\nCall initializer instance with the dtype argument instead of passing it to the constructor",
      "\n",
      "W0911 00:13:12.638021 17400 deprecation.py:506] From c:\\users\\egor\\dubna\\tracknet_v2\\venv\\lib\\site-packages\\tensorflow\\python\\ops\\init_ops.py:97: calling Orthogonal.__init__ (from tensorflow.python.ops.init_ops) with dtype is deprecated and will be removed in a future version.\nInstructions for updating:\nCall initializer instance with the dtype argument instead of passing it to the constructor",
      "\n",
      "W0911 00:13:14.043353 17400 deprecation.py:323] From c:\\users\\egor\\dubna\\tracknet_v2\\venv\\lib\\site-packages\\tensorflow\\python\\ops\\clip_ops.py:157: add_dispatch_support.<locals>.wrapper (from tensorflow.python.ops.array_ops) is deprecated and will be removed in a future version.\nInstructions for updating:\nUse tf.where in 2.0, which has the same broadcast rule as np.where",
      "\n"
     ],
     "output_type": "stream"
    }
   ],
   "source": [
    "#path_to_model = '../results/no_vtx_tracknetV2_seed{13}_batch{32}_epoch{27}_loss{1.7983}_acc{0.8842}_circle{3.3569}.h5'\n",
    "path_to_model = '../results/cloud__init-67-.val_point_in_ellipse.0.95.hdf5'\n",
    "custom_objects = {\n",
    "    \"_tracknet_loss\": custom_loss,\n",
    "    \"point_in_ellipse\": point_in_ellipse,\n",
    "    \"circle_area\": circle_area}\n",
    "\n",
    "model = load_model(path_to_model, custom_objects=custom_objects)"
   ]
  },
  {
   "cell_type": "code",
   "execution_count": 3,
   "metadata": {
    "pycharm": {
     "is_executing": false
    }
   },
   "outputs": [
    {
     "name": "stdout",
     "text": [
      "Model: \"TrackNet_v2\"",
      "\n",
      "__________________________________________________________________________________________________",
      "\n",
      "Layer (type)                    Output Shape         Param #     Connected to                     ",
      "\n",
      "==================================================================================================",
      "\n",
      "inputs (InputLayer)             [(None, None, 4)]    0                                            ",
      "\n",
      "__________________________________________________________________________________________________",
      "\n",
      "conv1d (Conv1D)                 (None, None, 32)     416         inputs[0][0]                     ",
      "\n",
      "__________________________________________________________________________________________________",
      "\n",
      "batch_norm (BatchNormalization) (None, None, 32)     128         conv1d[0][0]                     ",
      "\n",
      "__________________________________________________________________________________________________",
      "\n",
      "conv1d_relu (Activation)        (None, None, 32)     0           batch_norm[0][0]                 ",
      "\n",
      "__________________________________________________________________________________________________",
      "\n",
      "gru1 (GRU)                      (None, None, 32)     6240        conv1d_relu[0][0]                ",
      "\n",
      "__________________________________________________________________________________________________",
      "\n",
      "gru2 (GRU)                      (None, 16)           2352        gru1[0][0]                       ",
      "\n",
      "__________________________________________________________________________________________________",
      "\n",
      "xy_coords (Dense)               (None, 2)            34          gru2[0][0]                       ",
      "\n",
      "__________________________________________________________________________________________________",
      "\n",
      "r1_r2 (Dense)                   (None, 2)            34          gru2[0][0]                       ",
      "\n",
      "__________________________________________________________________________________________________",
      "\n",
      "outputs (Concatenate)           (None, 4)            0           xy_coords[0][0]                  ",
      "\n",
      "                                                                 r1_r2[0][0]                      ",
      "\n",
      "==================================================================================================",
      "\n",
      "Total params: 9,204",
      "\n",
      "Trainable params: 9,140",
      "\n",
      "Non-trainable params: 64",
      "\n",
      "__________________________________________________________________________________________________",
      "\n"
     ],
     "output_type": "stream"
    }
   ],
   "source": [
    "model.summary()"
   ]
  },
  {
   "cell_type": "markdown",
   "metadata": {},
   "source": [
    "## Events data"
   ]
  },
  {
   "cell_type": "code",
   "execution_count": 3,
   "metadata": {
    "pycharm": {
     "is_executing": false
    }
   },
   "outputs": [],
   "source": [
    "events = pd.read_csv('../data/test/CC4GeVmb_108_n50k.tsv', encoding='utf-8', sep='\\t')"
   ]
  },
  {
   "cell_type": "markdown",
   "metadata": {},
   "source": [
    "## Prepare first batch"
   ]
  },
  {
   "cell_type": "code",
   "execution_count": 9,
   "metadata": {
    "pycharm": {
     "is_executing": false
    }
   },
   "outputs": [],
   "source": [
    "vertex_stats = read_vertex_file(\"../data/train/vertex.json\")\n",
    "stations_z = [32.85, 65.25, 96.65, 129.35, 161.25, 193.85]"
   ]
  },
  {
   "cell_type": "code",
   "execution_count": 5,
   "metadata": {
    "pycharm": {
     "is_executing": false
    }
   },
   "outputs": [],
   "source": [
    "stations_sizes = [\n",
    "    [[-1.5, -4.5, 66, 41]], \n",
    "    [[-1.5, -4.5, 66, 41]], \n",
    "    [[-1.5, -4.5, 66, 41]], \n",
    "    # module 0, module 1\n",
    "    [[27.7, -4.5, 66, 41], [-34.7, -4.3, 66, 41]], \n",
    "    [[40.8, -6.9, 81.6, 45], [-40.8, -6.9, 81.6, 45]],\n",
    "    [[40.8, -6.9, 81.6, 45], [-40.8, -6.9, 81.6, 45]]]\n",
    "\n",
    "\n",
    "def get_extreme_points(xcenter,\n",
    "                       ycenter,\n",
    "                       width,\n",
    "                       height):\n",
    "    # width dependent measurements\n",
    "    half_width = width / 2\n",
    "    left = xcenter - half_width\n",
    "    right = xcenter + half_width\n",
    "    # height dependent measurements\n",
    "    half_height = height / 2\n",
    "    bottom = ycenter - half_height\n",
    "    top = ycenter + half_height\n",
    "    return (left, right, bottom, top)\n",
    "    \n",
    "    \n",
    "def is_ellipse_intersects_module(ellipse_params,\n",
    "                                 module_params):\n",
    "    # calculate top, bottom, left, right\n",
    "    ellipse_bounds = get_extreme_points(*ellipse_params)\n",
    "    module_bounds = get_extreme_points(*module_params)\n",
    "    # check conditions\n",
    "    if ellipse_bounds[0] > module_bounds[1]:\n",
    "        # ellipse left > rectangle rigth\n",
    "        return False\n",
    "    \n",
    "    if ellipse_bounds[1] < module_bounds[0]:\n",
    "        # ellipse rigth < rectangle left\n",
    "        return False\n",
    "    \n",
    "    if ellipse_bounds[2] > module_bounds[3]:\n",
    "        # ellipse bottom > rectangle top\n",
    "        return False\n",
    "    \n",
    "    if ellipse_bounds[3] < module_bounds[2]:\n",
    "        # ellipse top < rectangle bottom\n",
    "        return False\n",
    "    \n",
    "    return True\n",
    "\n",
    "\n",
    "def is_ellipse_intersects_station(ellipse_params,\n",
    "                                  station_params):\n",
    "    module_intersections = []\n",
    "    for module in station_params:\n",
    "        ellipse_in_module = is_ellipse_intersects_module(\n",
    "            ellipse_params, module)\n",
    "        # add to the list\n",
    "        module_intersections.append(ellipse_in_module)\n",
    "    return any(module_intersections)"
   ]
  },
  {
   "cell_type": "code",
   "execution_count": 6,
   "metadata": {
    "pycharm": {
     "is_executing": false
    }
   },
   "outputs": [],
   "source": [
    "def get_seeds_with_vertex(hits, vertex_stats):\n",
    "    # first station hits\n",
    "    st0_hits = hits[hits.station==0][['x', 'y', 'z']].values\n",
    "    vertex = sample_vertices(vertex_stats, n=len(st0_hits))\n",
    "    # create seeds\n",
    "    seeds = np.zeros((len(st0_hits), 2, 4))\n",
    "    seeds[:, 0, :-1] = vertex\n",
    "    seeds[:, 1, :-1] = st0_hits\n",
    "    seeds[:, :2, -1] = stations_z[:2]\n",
    "    return seeds\n",
    "\n",
    "\n",
    "def get_seeds(hits):\n",
    "    st0_hits = hits[hits.station==0][['x', 'y', 'z']].values\n",
    "    st1_hits = hits[hits.station==1][['x', 'y', 'z']].values\n",
    "    # all possible combinations\n",
    "    idx0 = range(len(st0_hits))\n",
    "    idx1 = range(len(st1_hits))\n",
    "    idx_comb = itertools.product(idx0, idx1)\n",
    "    # unpack indices\n",
    "    idx0, idx1 = zip(*idx_comb)\n",
    "    idx0 = list(idx0)\n",
    "    idx1 = list(idx1)\n",
    "    # create seeds array\n",
    "    seeds = np.zeros((len(idx0), 2, 4))\n",
    "    seeds[:, 0, :-1] = st0_hits[idx0]\n",
    "    seeds[:, 1, :-1] = st1_hits[idx1]\n",
    "    seeds[:, :2, -1] = stations_z[1:3]\n",
    "    return seeds"
   ]
  },
  {
   "cell_type": "code",
   "execution_count": 7,
   "metadata": {
    "pycharm": {
     "is_executing": false
    }
   },
   "outputs": [],
   "source": [
    "def reconstruct_event(hits, nn, n_stations=6, vertex_stats=None):\n",
    "    # next station\n",
    "    st = 1\n",
    "    j = 2\n",
    "    short_tracks = []\n",
    "    \n",
    "    # prepare seeds\n",
    "    if vertex_stats is None:\n",
    "        st = 2\n",
    "        seeds = get_seeds(hits)\n",
    "        batch_xs = np.zeros((len(seeds), n_stations, 4))\n",
    "        batch_shape = (len(seeds), n_stations, 4)\n",
    "    else:\n",
    "        seeds = get_seeds_with_vertex(hits, vertex_stats)\n",
    "        batch_shape = (len(seeds), n_stations+1, 4)\n",
    "        \n",
    "    # seeds to the batch\n",
    "    batch_xs = np.zeros(batch_shape, dtype=np.float32)\n",
    "    batch_xs[:, :2] = seeds\n",
    "    \n",
    "    while st < n_stations:\n",
    "        y_pred = nn.predict(batch_xs)\n",
    "        batch_xs_new = []\n",
    "        for i, ellipse in enumerate(y_pred):\n",
    "            # ellipse intersection doesn't work!!!\n",
    "            next_hits = hits[hits.station==st][['x', 'y', 'z']]\n",
    "            next_hits = next_hits.values.astype('float32')\n",
    "            ellipses = np.repeat([ellipse], len(next_hits), axis=0)\n",
    "            mask = point_in_ellipse_numpy(next_hits, ellipses)\n",
    "            masked_hits = next_hits[mask]\n",
    "            extensions = np.zeros((len(masked_hits), batch_xs.shape[1], 4))\n",
    "            extensions[:] = batch_xs[i:i+1]\n",
    "            extensions[:, j, :-1] = masked_hits\n",
    "            \n",
    "            if st < n_stations-1:\n",
    "                # for the last row we have not next z\n",
    "                extensions[:, j, -1] = stations_z[st+1]\n",
    "                \n",
    "            # add to the result array\n",
    "            batch_xs_new.extend(extensions)\n",
    "            \n",
    "        if len(batch_xs_new) == 0:\n",
    "            print('Alert!!!')\n",
    "            break\n",
    "            \n",
    "        # prepare for the next iteration\n",
    "        batch_xs = np.asarray(batch_xs_new)\n",
    "        st += 1\n",
    "        j += 1\n",
    "        \n",
    "    if len(short_tracks) > 0:\n",
    "        batch_xs = np.vstack([batch_xs, short_tracks])\n",
    "    \n",
    "    if batch_xs.shape[1] > n_stations:\n",
    "        # remove vertex and z+1\n",
    "        return batch_xs[:, 1:, :-1]\n",
    "    # only remove z+1\n",
    "    return batch_xs[:, :, :-1]"
   ]
  },
  {
   "cell_type": "code",
   "execution_count": 10,
   "metadata": {
    "pycharm": {
     "is_executing": false
    }
   },
   "outputs": [],
   "source": [
    "def event_efficiency(event, reco_tracks):\n",
    "    correct = 0\n",
    "    groupby_obj = event[event.track != -1].groupby('track')\n",
    "    # reshape to calculate squared distance\n",
    "    reco_tracks = reco_tracks.reshape(len(tracks), -1)\n",
    "    bad_tracks = 0\n",
    "    wrong_pred_tracks = []\n",
    "    for i, gp in groupby_obj:\n",
    "        if np.all(np.diff(gp.station.values) == 1.) and gp.station.values[0] == 0.:           \n",
    "            true_track = np.zeros((1, 6, 3))\n",
    "            track_hits = gp[['x', 'y', 'z']].values\n",
    "            true_track[0, :len(track_hits)] = track_hits\n",
    "            true_track = true_track.reshape(1, -1)\n",
    "    \n",
    "            dist = np.linalg.norm(true_track-reco_tracks, axis=1)\n",
    "            min_dist = dist.min()\n",
    "    \n",
    "            if min_dist < 1:\n",
    "                correct += 1\n",
    "                continue\n",
    "            else:\n",
    "                wrong_pred_tracks.append([true_track, gp[['x','y','z']].values])\n",
    "        else:\n",
    "            bad_tracks += 1\n",
    "\n",
    "    recall = correct / groupby_obj.ngroups\n",
    "    recall_corr = correct / (groupby_obj.ngroups - bad_tracks)\n",
    "    precision = correct / len(reco_tracks)\n",
    "    return recall, precision, recall_corr"
   ]
  },
  {
   "cell_type": "code",
   "execution_count": 11,
   "metadata": {
    "collapsed": true,
    "pycharm": {
     "is_executing": false
    }
   },
   "outputs": [
    {
     "data": {
      "text/plain": "HBox(children=(IntProgress(value=0, max=47379), HTML(value='')))",
      "application/vnd.jupyter.widget-view+json": {
       "version_major": 2,
       "version_minor": 0,
       "model_id": "564bc86b5a7c4bac894baa5c0e02ffee"
      }
     },
     "metadata": {},
     "output_type": "display_data"
    },
    {
     "name": "stdout",
     "text": [
      "0",
      "\n",
      "1",
      "\n",
      "2",
      "\n",
      "3",
      "\n",
      "7",
      "\n",
      "9",
      "\n",
      "10",
      "\n",
      "12",
      "\n",
      "13",
      "\n",
      "14",
      "\n",
      "15",
      "\n",
      "16",
      "\n",
      "17",
      "\n",
      "18",
      "\n",
      "19",
      "\n",
      "20",
      "\n",
      "21",
      "\n",
      "22",
      "\n",
      "24",
      "\n",
      "25",
      "\n",
      "26",
      "\n",
      "27",
      "\n",
      "28",
      "\n",
      "29",
      "\n",
      "30",
      "\n",
      "31",
      "\n",
      "\n",
      "KeyboardInterrupt",
      "\n"
     ],
     "output_type": "stream"
    }
   ],
   "source": [
    "event_ids = []\n",
    "recalls = []\n",
    "recalls_corr = []\n",
    "precisions = []\n",
    "events_gp = events.groupby('event')\n",
    "l = len(events_gp)\n",
    "try:\n",
    "    for event_id, event in tqdm.tqdm_notebook(events_gp):\n",
    "        tracks = reconstruct_event(event, model, vertex_stats=vertex_stats)\n",
    "        recall, precision, recall_corr = event_efficiency(event, tracks)\n",
    "        recalls.append(recall)\n",
    "        recalls_corr.append(recall_corr)\n",
    "        precisions.append(precision)\n",
    "        event_ids.append(event_id)\n",
    "        print(event_id)\n",
    "except KeyboardInterrupt:\n",
    "    print(\"KeyboardInterrupt\")"
   ]
  },
  {
   "cell_type": "code",
   "execution_count": 12,
   "metadata": {
    "pycharm": {
     "is_executing": false
    }
   },
   "outputs": [
    {
     "name": "stdout",
     "text": [
      "Number of events: ",
      " ",
      "26",
      "\n",
      "Recall: 0.7503",
      "\n",
      "Recall without \"broken\" tracks: 0.7887",
      "\n",
      "Precision: 0.7159",
      "\n",
      "Ghost rate: 0.2841",
      "\n"
     ],
     "output_type": "stream"
    }
   ],
   "source": [
    "print('Number of events: ', len(recalls))\n",
    "print('Recall: %.4f' % np.mean(recalls))\n",
    "print('Recall without \"broken\" tracks: %.4f' % np.mean(recalls_corr))\n",
    "print('Precision: %.4f' % np.mean(precisions))\n",
    "print('Ghost rate: %.4f' % (1-np.mean(precisions)))"
   ]
  },
  {
   "cell_type": "code",
   "execution_count": 65,
   "metadata": {},
   "outputs": [],
   "source": [
    "np.savez('stats.npz', recall=recalls, precision=precisions)"
   ]
  },
  {
   "cell_type": "markdown",
   "metadata": {},
   "source": [
    "## Visualize errors"
   ]
  },
  {
   "cell_type": "code",
   "execution_count": 14,
   "metadata": {
    "pycharm": {
     "is_executing": false
    }
   },
   "outputs": [],
   "source": [
    "import matplotlib.pyplot as plt"
   ]
  },
  {
   "cell_type": "code",
   "execution_count": 15,
   "metadata": {
    "pycharm": {
     "is_executing": false
    }
   },
   "outputs": [],
   "source": [
    "metrics = np.load('stats.npz')\n",
    "N = len(metrics['recall'])"
   ]
  },
  {
   "cell_type": "code",
   "execution_count": 16,
   "metadata": {
    "pycharm": {
     "is_executing": false
    }
   },
   "outputs": [
    {
     "traceback": [
      "\u001b[1;31m---------------------------------------------------------------------------\u001b[0m",
      "\u001b[1;31mNameError\u001b[0m                                 Traceback (most recent call last)",
      "\u001b[1;32m<ipython-input-16-9037164b02d5>\u001b[0m in \u001b[0;36m<module>\u001b[1;34m\u001b[0m\n\u001b[1;32m----> 1\u001b[1;33m \u001b[1;33m[\u001b[0m\u001b[1;34m'%.1f'\u001b[0m \u001b[1;33m%\u001b[0m \u001b[0mx\u001b[0m \u001b[1;32mfor\u001b[0m \u001b[0mx\u001b[0m \u001b[1;32min\u001b[0m \u001b[0mvals\u001b[0m\u001b[1;33m]\u001b[0m\u001b[1;33m\u001b[0m\u001b[1;33m\u001b[0m\u001b[0m\n\u001b[0m\u001b[0;32m      2\u001b[0m \u001b[1;33m\u001b[0m\u001b[0m\n",
      "\u001b[1;31mNameError\u001b[0m: name 'vals' is not defined"
     ],
     "ename": "NameError",
     "evalue": "name 'vals' is not defined",
     "output_type": "error"
    }
   ],
   "source": [
    "['%.1f' % x for x in vals]"
   ]
  },
  {
   "cell_type": "code",
   "execution_count": 17,
   "metadata": {
    "pycharm": {
     "is_executing": false
    }
   },
   "outputs": [
    {
     "data": {
      "text/plain": "<Figure size 720x432 with 1 Axes>",
      "image/png": "[encoded data removed]"
     },
     "metadata": {
      "needs_background": "light"
     },
     "output_type": "display_data"
    }
   ],
   "source": [
    "fig, ax = plt.subplots(figsize=(10, 6))\n",
    "weights, vals = np.histogram(metrics['recall'], bins=100)\n",
    "ax.plot(vals[1:], weights)\n",
    "plt.show()"
   ]
  },
  {
   "cell_type": "code",
   "execution_count": 18,
   "metadata": {
    "pycharm": {
     "is_executing": false
    }
   },
   "outputs": [
    {
     "data": {
      "text/plain": "<Figure size 720x432 with 1 Axes>",
      "image/png": "[encoded data removed]"
     },
     "metadata": {
      "needs_background": "light"
     },
     "output_type": "display_data"
    }
   ],
   "source": [
    "fig, ax = plt.subplots(figsize=(10, 6))\n",
    "ax.hist(metrics['recall'], bins=100, orientation='horizontal')\n",
    "ax.hist(metrics['precision'], bins=100, orientation='horizontal')\n",
    "\n",
    "plt.legend(['recall', 'precision'])\n",
    "plt.show()"
   ]
  },
  {
   "cell_type": "code",
   "execution_count": 19,
   "metadata": {
    "pycharm": {
     "is_executing": false
    }
   },
   "outputs": [],
   "source": [
    "clean_df = events[events.track != -1]\n",
    "clean_df = clean_df[clean_df.event < N]\n",
    "gp = clean_df.groupby(['event'])\n",
    "gp_size = gp.track.value_counts()"
   ]
  },
  {
   "cell_type": "code",
   "execution_count": 48,
   "metadata": {},
   "outputs": [
    {
     "data": {
      "text/plain": [
       "event  track\n",
       "0      2        6\n",
       "       3        6\n",
       "       5        6\n",
       "       9        6\n",
       "       11       6\n",
       "       6        4\n",
       "1      1        6\n",
       "       2        6\n",
       "2      13       6\n",
       "       14       6\n",
       "       11       5\n",
       "       5        3\n",
       "3      11       6\n",
       "       16       6\n",
       "       26       6\n",
       "       27       6\n",
       "       29       6\n",
       "       31       6\n",
       "       42       6\n",
       "       4        5\n",
       "       23       5\n",
       "       3        4\n",
       "       22       4\n",
       "       33       4\n",
       "       28       3\n",
       "7      2        6\n",
       "       4        6\n",
       "       21       6\n",
       "       24       6\n",
       "       26       6\n",
       "               ..\n",
       "5006   0        6\n",
       "       2        6\n",
       "       5        6\n",
       "       6        6\n",
       "       8        6\n",
       "       11       6\n",
       "       17       6\n",
       "       7        3\n",
       "5007   9        6\n",
       "       11       6\n",
       "       12       6\n",
       "       7        5\n",
       "5008   6        6\n",
       "       5        3\n",
       "5009   0        6\n",
       "       5        6\n",
       "       6        6\n",
       "       7        6\n",
       "5010   0        6\n",
       "       8        6\n",
       "       19       6\n",
       "       20       6\n",
       "       6        5\n",
       "       10       3\n",
       "5011   3        6\n",
       "       7        6\n",
       "       8        6\n",
       "       9        6\n",
       "       10       6\n",
       "       2        4\n",
       "Name: track, Length: 22013, dtype: int64"
      ]
     },
     "execution_count": 48,
     "metadata": {},
     "output_type": "execute_result"
    }
   ],
   "source": [
    "gp_size"
   ]
  }
 ],
 "metadata": {
  "kernelspec": {
   "display_name": "Python 3",
   "language": "python",
   "name": "python3"
  },
  "language_info": {
   "codemirror_mode": {
    "name": "ipython",
    "version": 3
   },
   "file_extension": ".py",
   "mimetype": "text/x-python",
   "name": "python",
   "nbconvert_exporter": "python",
   "pygments_lexer": "ipython3",
   "version": "3.7.3"
  },
  "pycharm": {
   "stem_cell": {
    "cell_type": "raw",
    "source": [],
    "metadata": {
     "collapsed": false
    }
   }
  }
 },
 "nbformat": 4,
 "nbformat_minor": 2
}